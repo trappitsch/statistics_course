{
 "cells": [
  {
   "cell_type": "markdown",
   "metadata": {},
   "source": [
    "# Solutions to Exercises - Introduction\n",
    "\n",
    "Here are some simple solutions to the exercises that are given in the notebook. I hope you have come up with the same results! First we'll do some imports that we'll need later on."
   ]
  },
  {
   "cell_type": "code",
   "execution_count": 1,
   "metadata": {},
   "outputs": [],
   "source": [
    "import numpy as np\n",
    "import matplotlib.pyplot as plt"
   ]
  },
  {
   "cell_type": "markdown",
   "metadata": {},
   "source": [
    "## Exercise 1\n",
    "\n",
    "Let us first define the parameters and the last subroutine again and make it such that it can take `nint` as a parameter."
   ]
  },
  {
   "cell_type": "code",
   "execution_count": 2,
   "metadata": {},
   "outputs": [],
   "source": [
    "# Measurements:\n",
    "nt = 50.\n",
    "n0 = 100.\n",
    "tmsr = 180.\n",
    "sigma_nt = 5.\n",
    "sigma_n0 = 10.\n",
    "sigma_t = 1."
   ]
  },
  {
   "cell_type": "code",
   "execution_count": 3,
   "metadata": {},
   "outputs": [],
   "source": [
    "def mccalc(nint):\n",
    "    lamsamp = -1. / (tmsr + np.random.randn(nint) * sigma_t) * np.log((nt + np.random.randn(nint) * sigma_nt) / \n",
    "                                                                     (n0 + np.random.randn(nint) * sigma_n0))\n",
    "    # calculate average and standard deviation\n",
    "    avg = np.average(lamsamp)\n",
    "    std = np.std(lamsamp)\n",
    "    \n",
    "    # return the average and the standard deviation\n",
    "    return avg, std"
   ]
  },
  {
   "cell_type": "markdown",
   "metadata": {},
   "source": [
    "Now we create a subroutine that will run `mccalc(nint)` as many times as we define, in fact, we pass it an argument `nconv` that will define how many times it runs. The standard devaiation of the average lambda and the standard devaiation of the standard deviation will be returned."
   ]
  },
  {
   "cell_type": "code",
   "execution_count": 4,
   "metadata": {},
   "outputs": [],
   "source": [
    "def mcconv(nconv, nint):\n",
    "    # define arrays to save the averages and the standard deviations to\n",
    "    avg = np.zeros(nconv)\n",
    "    std = np.zeros(nconv)\n",
    "    \n",
    "    # run mccalc nconv times\n",
    "    for it in range(nconv):\n",
    "        avg[it], std[it] = mccalc(nint)\n",
    "    \n",
    "    # now return the standard deviation of the average and the standard deviation of the standard deviation in %\n",
    "    return np.abs(np.std(avg) / np.average(avg)) * 100., np.std(std) / np.average(std) * 100."
   ]
  },
  {
   "cell_type": "markdown",
   "metadata": {},
   "source": [
    "Finally, we can print the results for `nconv=1000` and `nint` varying in the range of 10, 100, and 100000. "
   ]
  },
  {
   "cell_type": "code",
   "execution_count": 5,
   "metadata": {},
   "outputs": [
    {
     "name": "stdout",
     "output_type": "stream",
     "text": [
      "For nint = 10\n",
      "The average of lambda calculated by MC is +/- : 6.236%\n",
      "The standard deviation of lambda calculated by MC is +/- : 24.273%\n",
      "For nint = 100\n",
      "The average of lambda calculated by MC is +/- : 2.102%\n",
      "The standard deviation of lambda calculated by MC is +/- : 7.184%\n",
      "For nint = 100000\n",
      "The average of lambda calculated by MC is +/- : 0.064%\n",
      "The standard deviation of lambda calculated by MC is +/- : 0.233%\n"
     ]
    }
   ],
   "source": [
    "nintrange = [10, 100, 100000]\n",
    "nconv = 1000\n",
    "\n",
    "# loop throuh nintrange and calculate what we want\n",
    "for nint in nintrange:\n",
    "    avgstd, stdstd = mcconv(nconv, nint)\n",
    "    \n",
    "    # print the results\n",
    "    print('For nint = ' + str(nint))\n",
    "    print('The average of lambda calculated by MC is +/- : %.3f%%' %avgstd)\n",
    "    print('The standard deviation of lambda calculated by MC is +/- : %.3f%%' %stdstd)"
   ]
  },
  {
   "cell_type": "markdown",
   "metadata": {},
   "source": [
    "## Exercise 2\n",
    "\n",
    "Now we will do the same as above, actually, we have done most of the heavy lifting already in exercise 1. However, instead of printing the results, we will create a plot that shows the standard deviation in % for the average and the standard deviation of the MC uncertainty calculation. \n",
    "\n",
    "Above exercise has shown that 100000 is plenty precise, let's see how it converges. Let's pick 25 logarithmically distributed spots in between 1 and 100000 to calculate for. For this exercise, we will leave nconv at 1000."
   ]
  },
  {
   "cell_type": "code",
   "execution_count": 6,
   "metadata": {},
   "outputs": [],
   "source": [
    "# get some help on np.logspace - in case you haven't used it before (you have to uncomment the next line)\n",
    "# np.logspace?\n",
    "\n",
    "# create logarithmically spaced input\n",
    "nintrange = np.logspace(1, 5, 25)\n",
    "\n",
    "# nintrange is a floating point number, however, we need it to be an integer. Let's convert it to integers\n",
    "nintrange = np.array(nintrange, dtype=int)\n",
    "\n",
    "# define nconv\n",
    "nconv = 1000"
   ]
  },
  {
   "cell_type": "markdown",
   "metadata": {},
   "source": [
    "Now we can run for every nint through the above subroutine `mcconv(nconv, nint)` and save the return values to arrays."
   ]
  },
  {
   "cell_type": "code",
   "execution_count": 7,
   "metadata": {},
   "outputs": [],
   "source": [
    "# create the arrays\n",
    "avgstd = np.zeros(len(nintrange))\n",
    "stdstd = np.zeros(len(nintrange))\n",
    "\n",
    "# now run the loop above and save to the array\n",
    "for it in range(len(nintrange)):\n",
    "    # get the nint for this calculation\n",
    "    nint = nintrange[it]\n",
    "    # save the return values to the arrays we just created\n",
    "    avgstd[it], stdstd[it] = mcconv(nconv, nint)"
   ]
  },
  {
   "cell_type": "markdown",
   "metadata": {},
   "source": [
    "We have all of the data now available. Let's make the plot. Let's also make sure that the plot looks like something that one can read, i.e., has some proper axis labels, a legend, etc."
   ]
  },
  {
   "cell_type": "code",
   "execution_count": 8,
   "metadata": {},
   "outputs": [
    {
     "data": {
      "text/plain": [
       "<matplotlib.legend.Legend at 0x111b85250>"
      ]
     },
     "execution_count": 8,
     "metadata": {},
     "output_type": "execute_result"
    },
    {
     "data": {
      "image/png": "[encoded data removed]",
      "text/plain": [
       "<Figure size 432x288 with 1 Axes>"
      ]
     },
     "metadata": {
      "needs_background": "light"
     },
     "output_type": "display_data"
    }
   ],
   "source": [
    "# plot the two lines in different colors and styles\n",
    "plt.semilogx(nintrange, avgstd, '-', color='b', label='Average of $\\lambda$')\n",
    "plt.semilogx(nintrange, stdstd, '--', color='r', label='Standard deviation of $\\lambda$')\n",
    "\n",
    "# make the axes labels\n",
    "plt.xlabel('Number of MC calculations `nint`')\n",
    "plt.ylabel('Standard deviation of given value (%)')\n",
    "\n",
    "# print the label in the upper right corner (the one with no lines hopefully)\n",
    "plt.legend(loc='upper right')"
   ]
  },
  {
   "cell_type": "markdown",
   "metadata": {},
   "source": [
    "The plot clearly shows that at `nint=10000`, the uncertainty is well enough converged. So we got lucky in the first place.\n",
    "\n",
    "## Exercise 3\n",
    "\n",
    "However, we still don't know if nconv was actually a good value or not. So let's simply do the same for nconv as we did for nint, at an nint of 10000. Actually, even `nint=1000` looks like it would be an acceptable value, but since we have the computational power, it is better to not take it as close to the limit. Let's limit nconv at 10000 for the first try, in order to not make the number of calculations blow up."
   ]
  },
  {
   "cell_type": "code",
   "execution_count": 9,
   "metadata": {},
   "outputs": [
    {
     "data": {
      "text/plain": [
       "<matplotlib.legend.Legend at 0x114371350>"
      ]
     },
     "execution_count": 9,
     "metadata": {},
     "output_type": "execute_result"
    },
    {
     "data": {
      "image/png": "[encoded data removed]",
      "text/plain": [
       "<Figure size 432x288 with 1 Axes>"
      ]
     },
     "metadata": {
      "needs_background": "light"
     },
     "output_type": "display_data"
    }
   ],
   "source": [
    "# set nint\n",
    "nint = 10000\n",
    "nconvrange = np.logspace(1, 4, 25)\n",
    "# transform nconvrange to an integer again\n",
    "nconvrange = np.array(nconvrange, dtype=int)\n",
    "\n",
    "# define empty arrays to save stuff in \n",
    "avgstd = np.zeros(len(nconvrange))\n",
    "stdstd = np.zeros(len(nconvrange))\n",
    "\n",
    "# get the average and standard deviation based on nconv\n",
    "for it in range(len(nconvrange)):\n",
    "    nconv = nconvrange[it]\n",
    "    avgstd[it], stdstd[it] = mcconv(nconv, nint)\n",
    "    \n",
    "# plot the two lines in different colors and styles\n",
    "plt.semilogx(nconvrange, avgstd, '-', color='b', label='Average of $\\lambda$')\n",
    "plt.semilogx(nconvrange, stdstd, '--', color='r', label='Standard deviation of $\\lambda$')\n",
    "\n",
    "# make the axes labels\n",
    "plt.xlabel('Number of times the MC integration was run `nconv`')\n",
    "plt.ylabel('Standard deviation of given value (%)')\n",
    "\n",
    "# print the label in the upper right corner (the one with no lines hopefully)\n",
    "plt.legend(loc='upper right')"
   ]
  },
  {
   "cell_type": "markdown",
   "metadata": {},
   "source": [
    "Clearly, the calculation has well converged at an nconv of 1000, since all the fluctuations in the standard deviations are gone. We don't expect this curve to asymptotically fall towards zeros deviation (which is what we expected in exercise 2). The absolute uncertainty is simply defined by nint. However, we do expect large fluctuations for cases in which nconv is not large enough, this can clearly be seen between 10 and 100."
   ]
  }
 ],
 "metadata": {
  "kernelspec": {
   "display_name": "Python 3",
   "language": "python",
   "name": "python3"
  },
  "language_info": {
   "codemirror_mode": {
    "name": "ipython",
    "version": 3
   },
   "file_extension": ".py",
   "mimetype": "text/x-python",
   "name": "python",
   "nbconvert_exporter": "python",
   "pygments_lexer": "ipython3",
   "version": "3.7.4"
  }
 },
 "nbformat": 4,
 "nbformat_minor": 2
}
